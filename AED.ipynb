{
 "cells": [
  {
   "cell_type": "markdown",
   "metadata": {},
   "source": [
    "# <strong>Análise das Tarifas Aéreas para Voos Internacionais em 2022</strong>\n",
    "\n",
    "### <strong>descrição do Dataset</strong>\n",
    "\n",
    "​Os dados de Tarifas Aéreas Domésticas têm o objetivo de propiciar o acompanhamento das tarifas aéreas efetivamente vendidas ao público adulto em geral para viagens em território nacional e de subsidiar a realização de estudos sobre o transporte aéreo. ​\n",
    "\n",
    "### <strong>Visão Geral</strong>\n",
    "\n",
    "​Em cumprimento à Resolução ANAC no 437, de 26 de julho de 2017, os microdados do registro das tarifas aéreas domésticas e internacionais comercializadas passam a ser disponibilizados pela ANAC em sua página na internet para irrestrito acesso de qualquer interessado a partir de agosto de 2017. O registro é regulamentado pela Resolução ANAC no 140, de 9 de março de 2010, e pelas Portarias ANAC no 2923/SAS, de 27 de outubro de 2016. Os dados das tarifas aéreas domésticas comercializadas são retroativos até o ano de 2002. Os dados podem ser acessados pelo sistema de Download de arquivos, clicando no link abaixo: https://sistemas.anac.gov.br/sas/downloads/ Os dados de tarifas aéreas domésticas abrangem todas as passagens vendidas ao “público adulto em geral”, excluindo aquelas adquiridas com descontos restritos a grupos específicos, programas de milhagem, entre outras condições. O número de assentos vendidos registrados corresponde a cerca de 50% do movimento de passageiros pagos transportados. Ressalva-se que tais bases de dados confrontadas foram concebidas com distintos propósitos, público-alvo e metodologia de apuração que ocasionam diferenças significativas em termos quantitativos. Há recorrente alteração dos designadores OACI dos aeroportos, de forma que os microdados são publicados com os designadores vigentes na data da disponibilização. Os dados de tarifas aéreas domésticas foram integralmente disponibilizados. Os dados são sujeitos a revisão.​\n",
    "\n",
    "### <strong>Descrição</strong>\n",
    "\n",
    "<strong># Ano e mês</strong>\n",
    "\n",
    "Indicam o ano e o mês em que as passagens registradas foram vendidas, independentemente da data do voo.\n",
    "\n",
    "<strong>Designador OACI da Empresa</strong>\n",
    "\n",
    "Sigla de 3 letras estabelecida pela Organização de Aviação Civil Internacional que indica a empresa que registrou os dados. \n",
    "\n",
    "Para as tarifas aéreas domésticas, o registro é sempre efetuado pela empresa que vendeu a passagem, independentemente da empresa responsável por operar os voos.\n",
    "\n",
    "A lista das empresas em operação no Brasil está disponível em https://sistemas.anac.gov.br/sas/empresasaereas/view/empresas.aspx e o histórico dos designadores das empresas que não estão mais em operação está disponível na Lista de designadores OACI das empresas.\n",
    "\n",
    " \n",
    "\n",
    "<strong>Designador OACI de aeroportos</strong>\n",
    "\n",
    "Sigla de 4 letras que indica os aeródromos de origem, destino e retorno (este somente para tarifas internacionais) do passageiro, independentemente de escalas ou conexões. \n",
    "\n",
    "Para as tarifas aéreas domésticas: passagens de ida e volta e passagens de múltiplos destinos são fracionadas, sendo apresentadas na forma de passagens de uma origem e um destino.\n",
    "\n",
    "A lista dos aeródromos públicos brasileiros está disponível na página de Aeródromos \n",
    "\n",
    " \n",
    "\n",
    "<strong>Classes de ida e volta</strong>\n",
    "\n",
    "Campo aplicável somente às tarifas internacionais e indica a classe de cabine da passagem vendida, com os códigos Y (para classe econômica), J (para classe executiva), F (para primeira classe) ou 9 (usado para preencher o campo de classe de volta nas passagens de apenas ida).\n",
    "\n",
    "<strong>Valor da tarifa</strong>\n",
    "\n",
    "Apresenta o valor do serviço de transporte aéreo de constante da passagem. Não inclui as tarifas de embarque dos aeroportos nem valores cobrados por serviços opcionais.\n",
    "\n",
    "Para as tarifas aéreas domésticas, é apresentado o valor nominal em Reais (BRL).\n",
    "\n",
    "<strong>Assentos comercializados</strong>\n",
    "\n",
    "Número de assentos vendidos no mês de referência para a chave composta por ano e mês de venda da passagem, empresa aérea, aeroportos de origem, destino e retorno, classes de cabine de ida e volta e valor de tarifa.\n",
    "\n",
    "<strong>DESCRIÇÃO RETIRADA DO SITE DA ANAC</strong>"
   ]
  },
  {
   "cell_type": "code",
   "execution_count": 1,
   "metadata": {},
   "outputs": [],
   "source": [
    "import os\n",
    "import folium\n",
    "import pandas as pd"
   ]
  },
  {
   "cell_type": "markdown",
   "metadata": {},
   "source": [
    "### Preparando o dataset\n",
    "\n",
    "* Leitura do diretorio\n",
    "* unificando os dataset\n"
   ]
  },
  {
   "cell_type": "code",
   "execution_count": null,
   "metadata": {},
   "outputs": [],
   "source": [
    "# Diretório onde estão localizados os arquivos CSV\n",
    "diretorio = './internacionais/2022/'\n",
    "\n",
    "# Lista todos os arquivos na pasta\n",
    "arquivos_csv = [f for f in os.listdir(diretorio) if f.endswith('.CSV')]\n",
    "\n",
    "# Inicializa uma lista vazia para armazenar os DataFrames\n",
    "dataframes = []\n",
    "\n",
    "# Itera sobre cada arquivo CSV e lê os dados\n",
    "for arquivo in arquivos_csv:\n",
    "    caminho_arquivo = os.path.join(diretorio, arquivo)\n",
    "    df = pd.read_csv(caminho_arquivo, sep=';')\n",
    "    dataframes.append(df)\n",
    "\n",
    "# Concatena os DataFrames em um único DataFrame\n",
    "resultado = pd.concat(dataframes)\n",
    "novo_df = resultado.to_csv('./internacionais/passegens_2022.csv', index=False)\n",
    "\n",
    "# Exibe o resultado\n",
    "print(resultado)\n"
   ]
  },
  {
   "cell_type": "markdown",
   "metadata": {},
   "source": [
    "### Iniciando com Análise Descritiva\n",
    "\n",
    "* Leitura do Dataset\n",
    "* Formatação dos delimitador e decimal\n",
    "* Formatação dos valores das tarifas para o formato float\n",
    "* primeira análise"
   ]
  },
  {
   "cell_type": "code",
   "execution_count": 23,
   "metadata": {},
   "outputs": [
    {
     "data": {
      "text/plain": [
       "count   481353.00\n",
       "mean      1040.97\n",
       "std       1058.08\n",
       "min          0.16\n",
       "25%        419.00\n",
       "50%        767.00\n",
       "75%       1277.00\n",
       "max      25998.00\n",
       "Name: TARIFA, dtype: float64"
      ]
     },
     "execution_count": 23,
     "metadata": {},
     "output_type": "execute_result"
    }
   ],
   "source": [
    "df = pd.read_csv('./internacionais/passegens_2022.csv', delimiter=',', decimal='.')\n",
    "df['TARIFA'] = df['TARIFA'].str.replace(',', '.').astype(float)\n",
    "descrição = df['TARIFA'].describe()\n",
    "\n",
    "nova_dabase = df.to_csv('./internacionais/passagens_2022_novo.csv')\n",
    "descrição\n"
   ]
  },
  {
   "cell_type": "markdown",
   "metadata": {},
   "source": [
    "## <strong>Análise Descritiva das Tarifas Aéreas Internacionais - Ano de 2022</strong>\n",
    "\n",
    "Nesta análise, exploramos uma base de dados contendo informações sobre tarifas aéreas internacionais comercializadas no ano de 2022. O conjunto de dados é composto por um total de 481.353 registros de tarifas de voos internacionais. A seguir, apresentamos uma descrição resumida dos principais resultados obtidos:\n",
    "\n",
    "Tendência Central: A média das tarifas aéreas internacionais em 2022 é de aproximadamente 1.040,97, enquanto a mediana é de 767,00. Essa diferença sugere uma possível assimetria na distribuição dos preços, com valores mais baixos influenciando a média para baixo.\n",
    "\n",
    "Dispersão: O desvio padrão é de cerca de 1.058,08, indicando que os preços das tarifas internacionais tendem a variar consideravelmente em relação à média. Isso sugere que há uma ampla gama de preços, desde valores mais baixos até valores mais altos.\n",
    "\n",
    "Valores Extremos: Observamos que o valor mínimo das tarifas é de 0,16, o que parece ser atípico e pode indicar algum dado incorreto ou incompleto. O valor máximo é de 25.998,00, demonstrando a presença de tarifas aéreas internacionais muito altas no conjunto de dados de 2022.\n",
    "\n",
    "Quartis: Os valores do primeiro quartil (25%), segundo quartil (mediana, 50%) e terceiro quartil (75%) são respectivamente 419,00, 767,00 e 1.277,00. Esses quartis nos fornecem informações sobre as faixas de tarifas que abrangem 25%, 50% e 75% dos valores observados.\n",
    "\n",
    "Esses resultados nos permitem ter uma visão geral das tarifas aéreas internacionais no ano de 2022, incluindo sua distribuição e variação ao longo desse período específico. A identificação de um valor mínimo atípico de 0,16 pode requerer uma análise mais aprofundada para entender a natureza desse dado incomum.\n",
    "\n",
    "Essa análise descritiva é fundamental para a compreensão inicial das tarifas aéreas internacionais em 2022 e oferece uma base sólida para análises mais avançadas e tomadas de decisões no setor da aviação internacional para aquele ano específico."
   ]
  }
 ],
 "metadata": {
  "kernelspec": {
   "display_name": "Python 3",
   "language": "python",
   "name": "python3"
  },
  "language_info": {
   "codemirror_mode": {
    "name": "ipython",
    "version": 3
   },
   "file_extension": ".py",
   "mimetype": "text/x-python",
   "name": "python",
   "nbconvert_exporter": "python",
   "pygments_lexer": "ipython3",
   "version": "3.11.2"
  },
  "orig_nbformat": 4
 },
 "nbformat": 4,
 "nbformat_minor": 2
}
